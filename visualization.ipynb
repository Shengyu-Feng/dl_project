{
 "cells": [
  {
   "cell_type": "code",
   "execution_count": 92,
   "metadata": {},
   "outputs": [],
   "source": [
    "import os\n",
    "import sys\n",
    "import numpy as np\n",
    "import time\n",
    "import shutil\n",
    "import pickle as pkl\n",
    "import matplotlib.pyplot as plt\n",
    "from sklearn.manifold import TSNE\n",
    "from utils import Config\n",
    "import gensim\n",
    "from utils import Config, safe_pickle_dump\n",
    "import urllib\n",
    "import feedparser\n",
    "import urllib.request as libreq\n",
    "from gensim.models.doc2vec import Doc2Vec, TaggedDocument\n",
    "\n",
    "model= Doc2Vec.load(\"d2v.model\")\n",
    "num_of_papers = len(model.docvecs) \n",
    "docvecs = []\n",
    "for i in range(num_of_papers):\n",
    "    docvecs.append(model.docvecs[i])\n",
    "docvecs = np.array(docvecs)"
   ]
  },
  {
   "cell_type": "code",
   "execution_count": 93,
   "metadata": {},
   "outputs": [],
   "source": [
    "category = {} \n",
    "db = pkl.load(open(Config.db_path, 'rb'))\n",
    "for k,v in db.items():\n",
    "    category[k] = v['tags'][0]['term']\n",
    "set_of_category =  set(category.values())\n",
    "colors = []\n",
    "root = int(np.ceil(np.power(len(set_of_category),1/4)))\n",
    "for a in range(1,1+root):\n",
    "    for b in range(1,1+root):\n",
    "        for c in range(1,1+root):\n",
    "            for d in range(1,1+root):\n",
    "                colors.append((1/root*a,1/root*b,1/root*c,1/root*d))\n",
    "\n",
    "corr = dict(zip(list(set_of_category),colors[:len(set_of_category)]))"
   ]
  },
  {
   "cell_type": "code",
   "execution_count": 94,
   "metadata": {},
   "outputs": [],
   "source": [
    "def TSE_visualization(X,query_dict,output_file=None):\n",
    "    plt.figure(figsize=(16, 16)) \n",
    "    X_embedded = TSNE(n_components=2, n_iter=1000, perplexity=40, verbose=2, random_state=23).fit_transform(X)\n",
    "    color = np.array([corr[category[query]] for k,query in query_dict.items()])\n",
    "    label = np.array([legend[category[query]] for k, query in query_dict.items()])\n",
    "    plt.scatter(X_embedded[:,0],X_embedded[:,1],color=color)\n",
    "    plt.legend()\n",
    "    if output_file:\n",
    "        plt.savefig(output_file)\n",
    "    plt.show()"
   ]
  },
  {
   "cell_type": "code",
   "execution_count": null,
   "metadata": {},
   "outputs": [
    {
     "name": "stdout",
     "output_type": "stream",
     "text": [
      "[t-SNE] Computing 121 nearest neighbors...\n",
      "[t-SNE] Indexed 2761 samples in 0.004s...\n",
      "[t-SNE] Computed neighbors for 2761 samples in 0.821s...\n",
      "[t-SNE] Computed conditional probabilities for sample 1000 / 2761\n",
      "[t-SNE] Computed conditional probabilities for sample 2000 / 2761\n",
      "[t-SNE] Computed conditional probabilities for sample 2761 / 2761\n",
      "[t-SNE] Mean sigma: 4.346590\n",
      "[t-SNE] Computed conditional probabilities in 0.247s\n",
      "[t-SNE] Iteration 50: error = 78.6955719, gradient norm = 0.0181344 (50 iterations in 4.259s)\n",
      "[t-SNE] Iteration 100: error = 75.7591782, gradient norm = 0.0132952 (50 iterations in 3.291s)\n",
      "[t-SNE] Iteration 150: error = 75.6563950, gradient norm = 0.0140651 (50 iterations in 2.937s)\n",
      "[t-SNE] Iteration 200: error = 75.6512299, gradient norm = 0.0202712 (50 iterations in 3.041s)\n",
      "[t-SNE] Iteration 250: error = 75.6296921, gradient norm = 0.0151828 (50 iterations in 3.143s)\n",
      "[t-SNE] KL divergence after 250 iterations with early exaggeration: 75.629692\n",
      "[t-SNE] Iteration 300: error = 1.9333123, gradient norm = 0.0011054 (50 iterations in 2.985s)\n"
     ]
    }
   ],
   "source": [
    "# visualization of doc2vec\n",
    "doc2vec_dict = {i: model.docvecs.index_to_doctag(i)[:-2] for i in range(num_of_papers)}\n",
    "TSE_visualization(docvecs,doc2vec_dict,\"doc2vec_visual.png\")"
   ]
  },
  {
   "cell_type": "code",
   "execution_count": null,
   "metadata": {},
   "outputs": [],
   "source": [
    "# visualization of BERT\n",
    "db = pkl.load(open('bert_out_big.p', 'rb'))\n",
    "X = np.array(list(db.values()))\n",
    "X = X / np.linalg.norm(X, axis=0)\n",
    "pids = list(db.keys())\n",
    "ds = -np.asarray(np.dot(X, X.T))\n",
    "bert_dict = dict(zip(range(num_of_papers), pids))\n",
    "TSE_visualization(ds, bert_dict,\"bert_visual.png\")"
   ]
  }
 ],
 "metadata": {
  "kernelspec": {
   "display_name": "Python 3",
   "language": "python",
   "name": "python3"
  },
  "language_info": {
   "codemirror_mode": {
    "name": "ipython",
    "version": 3
   },
   "file_extension": ".py",
   "mimetype": "text/x-python",
   "name": "python",
   "nbconvert_exporter": "python",
   "pygments_lexer": "ipython3",
   "version": "3.6.5"
  }
 },
 "nbformat": 4,
 "nbformat_minor": 2
}
